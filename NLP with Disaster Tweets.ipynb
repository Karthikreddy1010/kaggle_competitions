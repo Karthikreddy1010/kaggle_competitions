{
 "cells": [
  {
   "cell_type": "markdown",
   "id": "770af144-deaf-4750-9bd6-f26a4b4cecec",
   "metadata": {},
   "source": [
    "## Disaster tweets classification"
   ]
  },
  {
   "cell_type": "code",
   "execution_count": 1,
   "id": "2147b4ba-85de-4712-abbc-4133b22c38ed",
   "metadata": {},
   "outputs": [],
   "source": [
    "import pandas as pd\n",
    "import numpy as np"
   ]
  },
  {
   "cell_type": "code",
   "execution_count": 3,
   "id": "05568e30-8d9d-4531-9af8-51e7dcd47565",
   "metadata": {},
   "outputs": [
    {
     "data": {
      "text/html": [
       "<div>\n",
       "<style scoped>\n",
       "    .dataframe tbody tr th:only-of-type {\n",
       "        vertical-align: middle;\n",
       "    }\n",
       "\n",
       "    .dataframe tbody tr th {\n",
       "        vertical-align: top;\n",
       "    }\n",
       "\n",
       "    .dataframe thead th {\n",
       "        text-align: right;\n",
       "    }\n",
       "</style>\n",
       "<table border=\"1\" class=\"dataframe\">\n",
       "  <thead>\n",
       "    <tr style=\"text-align: right;\">\n",
       "      <th></th>\n",
       "      <th>id</th>\n",
       "      <th>keyword</th>\n",
       "      <th>location</th>\n",
       "      <th>text</th>\n",
       "      <th>target</th>\n",
       "    </tr>\n",
       "  </thead>\n",
       "  <tbody>\n",
       "    <tr>\n",
       "      <th>0</th>\n",
       "      <td>1</td>\n",
       "      <td>NaN</td>\n",
       "      <td>NaN</td>\n",
       "      <td>Our Deeds are the Reason of this #earthquake M...</td>\n",
       "      <td>1</td>\n",
       "    </tr>\n",
       "    <tr>\n",
       "      <th>1</th>\n",
       "      <td>4</td>\n",
       "      <td>NaN</td>\n",
       "      <td>NaN</td>\n",
       "      <td>Forest fire near La Ronge Sask. Canada</td>\n",
       "      <td>1</td>\n",
       "    </tr>\n",
       "    <tr>\n",
       "      <th>2</th>\n",
       "      <td>5</td>\n",
       "      <td>NaN</td>\n",
       "      <td>NaN</td>\n",
       "      <td>All residents asked to 'shelter in place' are ...</td>\n",
       "      <td>1</td>\n",
       "    </tr>\n",
       "    <tr>\n",
       "      <th>3</th>\n",
       "      <td>6</td>\n",
       "      <td>NaN</td>\n",
       "      <td>NaN</td>\n",
       "      <td>13,000 people receive #wildfires evacuation or...</td>\n",
       "      <td>1</td>\n",
       "    </tr>\n",
       "    <tr>\n",
       "      <th>4</th>\n",
       "      <td>7</td>\n",
       "      <td>NaN</td>\n",
       "      <td>NaN</td>\n",
       "      <td>Just got sent this photo from Ruby #Alaska as ...</td>\n",
       "      <td>1</td>\n",
       "    </tr>\n",
       "  </tbody>\n",
       "</table>\n",
       "</div>"
      ],
      "text/plain": [
       "   id keyword location                                               text  \\\n",
       "0   1     NaN      NaN  Our Deeds are the Reason of this #earthquake M...   \n",
       "1   4     NaN      NaN             Forest fire near La Ronge Sask. Canada   \n",
       "2   5     NaN      NaN  All residents asked to 'shelter in place' are ...   \n",
       "3   6     NaN      NaN  13,000 people receive #wildfires evacuation or...   \n",
       "4   7     NaN      NaN  Just got sent this photo from Ruby #Alaska as ...   \n",
       "\n",
       "   target  \n",
       "0       1  \n",
       "1       1  \n",
       "2       1  \n",
       "3       1  \n",
       "4       1  "
      ]
     },
     "execution_count": 3,
     "metadata": {},
     "output_type": "execute_result"
    }
   ],
   "source": [
    "# Training dataset\n",
    "\n",
    "data=pd.read_csv(\"disaster_tweets_train.csv\")\n",
    "data.head()"
   ]
  },
  {
   "cell_type": "code",
   "execution_count": 5,
   "id": "c97aa938-f1f4-4725-a8a0-d86ee9a8a9a0",
   "metadata": {},
   "outputs": [
    {
     "data": {
      "text/plain": [
       "(7613, 5)"
      ]
     },
     "execution_count": 5,
     "metadata": {},
     "output_type": "execute_result"
    }
   ],
   "source": [
    "data.shape"
   ]
  },
  {
   "cell_type": "markdown",
   "id": "a4662cad-160d-4836-8c8f-9a28030fd991",
   "metadata": {},
   "source": [
    "### To see null values"
   ]
  },
  {
   "cell_type": "code",
   "execution_count": 8,
   "id": "f4f6042a-5546-401e-8c1c-68b1d4dc7b4e",
   "metadata": {},
   "outputs": [
    {
     "data": {
      "text/plain": [
       "id             0\n",
       "keyword       61\n",
       "location    2533\n",
       "text           0\n",
       "target         0\n",
       "dtype: int64"
      ]
     },
     "execution_count": 8,
     "metadata": {},
     "output_type": "execute_result"
    }
   ],
   "source": [
    "data.isnull().sum()"
   ]
  },
  {
   "cell_type": "markdown",
   "id": "daa43713-84a6-4d3e-8493-3deec1b38303",
   "metadata": {},
   "source": [
    "### To drop columns that are not useful"
   ]
  },
  {
   "cell_type": "code",
   "execution_count": 11,
   "id": "c21655fa-747d-4e45-893e-d31cf91cd5cb",
   "metadata": {},
   "outputs": [
    {
     "data": {
      "text/html": [
       "<div>\n",
       "<style scoped>\n",
       "    .dataframe tbody tr th:only-of-type {\n",
       "        vertical-align: middle;\n",
       "    }\n",
       "\n",
       "    .dataframe tbody tr th {\n",
       "        vertical-align: top;\n",
       "    }\n",
       "\n",
       "    .dataframe thead th {\n",
       "        text-align: right;\n",
       "    }\n",
       "</style>\n",
       "<table border=\"1\" class=\"dataframe\">\n",
       "  <thead>\n",
       "    <tr style=\"text-align: right;\">\n",
       "      <th></th>\n",
       "      <th>id</th>\n",
       "      <th>text</th>\n",
       "      <th>target</th>\n",
       "    </tr>\n",
       "  </thead>\n",
       "  <tbody>\n",
       "    <tr>\n",
       "      <th>0</th>\n",
       "      <td>1</td>\n",
       "      <td>Our Deeds are the Reason of this #earthquake M...</td>\n",
       "      <td>1</td>\n",
       "    </tr>\n",
       "    <tr>\n",
       "      <th>1</th>\n",
       "      <td>4</td>\n",
       "      <td>Forest fire near La Ronge Sask. Canada</td>\n",
       "      <td>1</td>\n",
       "    </tr>\n",
       "    <tr>\n",
       "      <th>2</th>\n",
       "      <td>5</td>\n",
       "      <td>All residents asked to 'shelter in place' are ...</td>\n",
       "      <td>1</td>\n",
       "    </tr>\n",
       "    <tr>\n",
       "      <th>3</th>\n",
       "      <td>6</td>\n",
       "      <td>13,000 people receive #wildfires evacuation or...</td>\n",
       "      <td>1</td>\n",
       "    </tr>\n",
       "    <tr>\n",
       "      <th>4</th>\n",
       "      <td>7</td>\n",
       "      <td>Just got sent this photo from Ruby #Alaska as ...</td>\n",
       "      <td>1</td>\n",
       "    </tr>\n",
       "  </tbody>\n",
       "</table>\n",
       "</div>"
      ],
      "text/plain": [
       "   id                                               text  target\n",
       "0   1  Our Deeds are the Reason of this #earthquake M...       1\n",
       "1   4             Forest fire near La Ronge Sask. Canada       1\n",
       "2   5  All residents asked to 'shelter in place' are ...       1\n",
       "3   6  13,000 people receive #wildfires evacuation or...       1\n",
       "4   7  Just got sent this photo from Ruby #Alaska as ...       1"
      ]
     },
     "execution_count": 11,
     "metadata": {},
     "output_type": "execute_result"
    }
   ],
   "source": [
    "drop_columns = ['keyword', 'location']\n",
    "data.drop(columns=drop_columns, inplace=True)\n",
    "data.head()"
   ]
  },
  {
   "cell_type": "code",
   "execution_count": 13,
   "id": "c9255aae-6ad8-458a-8d76-6b7b449e370e",
   "metadata": {},
   "outputs": [
    {
     "data": {
      "text/plain": [
       "target\n",
       "0    4342\n",
       "1    3271\n",
       "Name: count, dtype: int64"
      ]
     },
     "execution_count": 13,
     "metadata": {},
     "output_type": "execute_result"
    }
   ],
   "source": [
    "data['target'].value_counts()"
   ]
  },
  {
   "cell_type": "markdown",
   "id": "7c6fc3e1-23c3-4f0f-9540-08b1a9d7acd4",
   "metadata": {},
   "source": [
    "### real disaster=1, no disaster=0"
   ]
  },
  {
   "cell_type": "code",
   "execution_count": 16,
   "id": "f6a674e7-1947-40a4-b9ee-e08306fb2ad1",
   "metadata": {},
   "outputs": [
    {
     "data": {
      "text/plain": [
       "<Axes: xlabel='target', ylabel='count'>"
      ]
     },
     "execution_count": 16,
     "metadata": {},
     "output_type": "execute_result"
    },
    {
     "data": {
      "image/png": "[encoded data removed]",
      "text/plain": [
       "<Figure size 640x480 with 1 Axes>"
      ]
     },
     "metadata": {},
     "output_type": "display_data"
    }
   ],
   "source": [
    "\n",
    "import seaborn as sns\n",
    "sns.countplot(x=data['target'])"
   ]
  },
  {
   "cell_type": "code",
   "execution_count": 17,
   "id": "8d6fd292-11a8-484b-8392-575592eb8493",
   "metadata": {},
   "outputs": [
    {
     "data": {
      "text/html": [
       "<div>\n",
       "<style scoped>\n",
       "    .dataframe tbody tr th:only-of-type {\n",
       "        vertical-align: middle;\n",
       "    }\n",
       "\n",
       "    .dataframe tbody tr th {\n",
       "        vertical-align: top;\n",
       "    }\n",
       "\n",
       "    .dataframe thead th {\n",
       "        text-align: right;\n",
       "    }\n",
       "</style>\n",
       "<table border=\"1\" class=\"dataframe\">\n",
       "  <thead>\n",
       "    <tr style=\"text-align: right;\">\n",
       "      <th></th>\n",
       "      <th>id</th>\n",
       "      <th>keyword</th>\n",
       "      <th>location</th>\n",
       "      <th>text</th>\n",
       "    </tr>\n",
       "  </thead>\n",
       "  <tbody>\n",
       "    <tr>\n",
       "      <th>0</th>\n",
       "      <td>0</td>\n",
       "      <td>NaN</td>\n",
       "      <td>NaN</td>\n",
       "      <td>Just happened a terrible car crash</td>\n",
       "    </tr>\n",
       "    <tr>\n",
       "      <th>1</th>\n",
       "      <td>2</td>\n",
       "      <td>NaN</td>\n",
       "      <td>NaN</td>\n",
       "      <td>Heard about #earthquake is different cities, s...</td>\n",
       "    </tr>\n",
       "    <tr>\n",
       "      <th>2</th>\n",
       "      <td>3</td>\n",
       "      <td>NaN</td>\n",
       "      <td>NaN</td>\n",
       "      <td>there is a forest fire at spot pond, geese are...</td>\n",
       "    </tr>\n",
       "    <tr>\n",
       "      <th>3</th>\n",
       "      <td>9</td>\n",
       "      <td>NaN</td>\n",
       "      <td>NaN</td>\n",
       "      <td>Apocalypse lighting. #Spokane #wildfires</td>\n",
       "    </tr>\n",
       "    <tr>\n",
       "      <th>4</th>\n",
       "      <td>11</td>\n",
       "      <td>NaN</td>\n",
       "      <td>NaN</td>\n",
       "      <td>Typhoon Soudelor kills 28 in China and Taiwan</td>\n",
       "    </tr>\n",
       "  </tbody>\n",
       "</table>\n",
       "</div>"
      ],
      "text/plain": [
       "   id keyword location                                               text\n",
       "0   0     NaN      NaN                 Just happened a terrible car crash\n",
       "1   2     NaN      NaN  Heard about #earthquake is different cities, s...\n",
       "2   3     NaN      NaN  there is a forest fire at spot pond, geese are...\n",
       "3   9     NaN      NaN           Apocalypse lighting. #Spokane #wildfires\n",
       "4  11     NaN      NaN      Typhoon Soudelor kills 28 in China and Taiwan"
      ]
     },
     "execution_count": 17,
     "metadata": {},
     "output_type": "execute_result"
    }
   ],
   "source": [
    "# Testing data\n",
    "\n",
    "test_df=pd.read_csv(\"twitter_test.csv\")\n",
    "\n",
    "test_df.head()"
   ]
  },
  {
   "cell_type": "code",
   "execution_count": 18,
   "id": "f51a1065-c5bc-4c95-9ed7-c261bcc31aff",
   "metadata": {},
   "outputs": [
    {
     "data": {
      "text/plain": [
       "id             0\n",
       "keyword       26\n",
       "location    1105\n",
       "text           0\n",
       "dtype: int64"
      ]
     },
     "execution_count": 18,
     "metadata": {},
     "output_type": "execute_result"
    }
   ],
   "source": [
    "test_df.isnull().sum()"
   ]
  },
  {
   "cell_type": "code",
   "execution_count": 19,
   "id": "664cafca-fffd-4d9f-99ca-dd1c94c37232",
   "metadata": {},
   "outputs": [
    {
     "data": {
      "text/plain": [
       "(3263, 4)"
      ]
     },
     "execution_count": 19,
     "metadata": {},
     "output_type": "execute_result"
    }
   ],
   "source": [
    "test_df.shape"
   ]
  },
  {
   "cell_type": "code",
   "execution_count": 20,
   "id": "4e1e5b11-5041-4cb3-aa93-efe662f5e9dd",
   "metadata": {},
   "outputs": [],
   "source": [
    "X=data['text']\n",
    "y=data['target']\n",
    "X_test=test_df['text']"
   ]
  },
  {
   "cell_type": "markdown",
   "id": "4d9c82d7-c073-471d-bdcf-54451f5a89e1",
   "metadata": {},
   "source": [
    "## TO Train and test"
   ]
  },
  {
   "cell_type": "code",
   "execution_count": 27,
   "id": "7fd8fc15-8ff4-49f2-b705-43e94ada10c4",
   "metadata": {},
   "outputs": [],
   "source": [
    "from sklearn.model_selection import train_test_split\n",
    "\n",
    "X_train,X_val,y_train,y_val=train_test_split(X,\n",
    "                                             y,\n",
    "                                              test_size=0.2,\n",
    "                                              random_state=2024,\n",
    "                                              stratify=y\n",
    "                                              )\n"
   ]
  },
  {
   "cell_type": "code",
   "execution_count": 29,
   "id": "b52b862d-21b8-45eb-acda-6837c07356e4",
   "metadata": {},
   "outputs": [
    {
     "data": {
      "text/plain": [
       "7187    BUT I will be uploading these videos ASAP so y...\n",
       "1278            Don't get burned twice by the same flame.\n",
       "3302    The EFAK would be designed for building occupa...\n",
       "1872    Only had a crush on one girl in high school an...\n",
       "6849    games that I really hope to see in AGDQ: Traum...\n",
       "Name: text, dtype: object"
      ]
     },
     "execution_count": 29,
     "metadata": {},
     "output_type": "execute_result"
    }
   ],
   "source": [
    "X_train.head()"
   ]
  },
  {
   "cell_type": "code",
   "execution_count": 31,
   "id": "feb5ee0b-5d5b-470f-8c77-2c83f0918f2b",
   "metadata": {},
   "outputs": [
    {
     "data": {
      "text/plain": [
       "'BUT I will be uploading these videos ASAP so you guys get to see the new weapon types in action!'"
      ]
     },
     "execution_count": 31,
     "metadata": {},
     "output_type": "execute_result"
    }
   ],
   "source": [
    "X_train[7187]"
   ]
  },
  {
   "cell_type": "code",
   "execution_count": 33,
   "id": "c177f6ba-c6d5-4a33-9de2-83cc0099face",
   "metadata": {},
   "outputs": [
    {
     "data": {
      "text/plain": [
       "(6090,)"
      ]
     },
     "execution_count": 33,
     "metadata": {},
     "output_type": "execute_result"
    }
   ],
   "source": [
    "X_train.shape"
   ]
  },
  {
   "cell_type": "code",
   "execution_count": 35,
   "id": "4a6ac294-fab1-409b-a929-16ccf808a994",
   "metadata": {},
   "outputs": [
    {
     "data": {
      "text/plain": [
       "0                   Just happened a terrible car crash\n",
       "1    Heard about #earthquake is different cities, s...\n",
       "2    there is a forest fire at spot pond, geese are...\n",
       "3             Apocalypse lighting. #Spokane #wildfires\n",
       "4        Typhoon Soudelor kills 28 in China and Taiwan\n",
       "Name: text, dtype: object"
      ]
     },
     "execution_count": 35,
     "metadata": {},
     "output_type": "execute_result"
    }
   ],
   "source": [
    "X_test.head()"
   ]
  },
  {
   "cell_type": "code",
   "execution_count": 37,
   "id": "e96396e2-0abd-4380-a77a-827d1bdd7dee",
   "metadata": {},
   "outputs": [
    {
     "data": {
      "text/plain": [
       "(3263,)"
      ]
     },
     "execution_count": 37,
     "metadata": {},
     "output_type": "execute_result"
    }
   ],
   "source": [
    "X_test.shape"
   ]
  },
  {
   "cell_type": "markdown",
   "id": "10315fa5-3715-4c37-b3a5-f968a5017239",
   "metadata": {},
   "source": [
    "## KNN with n_neighbors=10, metric=euclidean"
   ]
  },
  {
   "cell_type": "code",
   "execution_count": 46,
   "id": "8b90f4e6-ad3a-4eac-b236-cf1b0719d473",
   "metadata": {},
   "outputs": [
    {
     "name": "stdout",
     "output_type": "stream",
     "text": [
      "              precision    recall  f1-score   support\n",
      "\n",
      "           0       0.60      1.00      0.75       869\n",
      "           1       0.97      0.13      0.23       654\n",
      "\n",
      "    accuracy                           0.63      1523\n",
      "   macro avg       0.79      0.56      0.49      1523\n",
      "weighted avg       0.76      0.63      0.53      1523\n",
      "\n"
     ]
    }
   ],
   "source": [
    "from sklearn.pipeline import Pipeline\n",
    "from sklearn.feature_extraction.text import CountVectorizer\n",
    "from sklearn.neighbors import KNeighborsClassifier\n",
    "from sklearn.metrics import classification_report\n",
    "\n",
    "\n",
    "pipeline = Pipeline([\n",
    "    ('vect', CountVectorizer(ngram_range=(1, 3))),  \n",
    "    ('clf', KNeighborsClassifier(n_neighbors=10, metric='euclidean'))\n",
    "])\n",
    "\n",
    "\n",
    "# Fit the pipeline on the training data\n",
    "pipeline.fit(X_train, y_train)\n",
    "\n",
    "y_pred=pipeline.predict(X_val)\n",
    "print(classification_report(y_val,y_pred))\n"
   ]
  },
  {
   "cell_type": "markdown",
   "id": "81a30780-b153-4135-9961-59c986bca187",
   "metadata": {},
   "source": [
    "## KNN with n_neighbor=10, metric=cosine"
   ]
  },
  {
   "cell_type": "code",
   "execution_count": 43,
   "id": "541f4059-7fe4-4f79-87af-89fed033bfd5",
   "metadata": {},
   "outputs": [
    {
     "name": "stdout",
     "output_type": "stream",
     "text": [
      "              precision    recall  f1-score   support\n",
      "\n",
      "           0       0.68      0.94      0.79       869\n",
      "           1       0.84      0.42      0.56       654\n",
      "\n",
      "    accuracy                           0.72      1523\n",
      "   macro avg       0.76      0.68      0.68      1523\n",
      "weighted avg       0.75      0.72      0.69      1523\n",
      "\n"
     ]
    }
   ],
   "source": [
    "# Define the pipeline\n",
    "pipeline = Pipeline([\n",
    "    ('vect', CountVectorizer(ngram_range=(1, 3))),  # Unigrams, bigrams, and trigrams\n",
    "    ('clf', KNeighborsClassifier(n_neighbors=10, metric='cosine'))\n",
    "])\n",
    "\n",
    "\n",
    "# Fit the pipeline on the training data\n",
    "pipeline.fit(X_train, y_train)\n",
    "\n",
    "y_pred=pipeline.predict(X_val)\n",
    "print(classification_report(y_val,y_pred))"
   ]
  },
  {
   "cell_type": "markdown",
   "id": "a4379037-7ccb-4fda-84b9-67aa92dcb033",
   "metadata": {},
   "source": [
    "## Random Forest"
   ]
  },
  {
   "cell_type": "code",
   "execution_count": 46,
   "id": "194efc69-261e-4c9f-be84-4487691b9ab0",
   "metadata": {},
   "outputs": [
    {
     "name": "stdout",
     "output_type": "stream",
     "text": [
      "              precision    recall  f1-score   support\n",
      "\n",
      "           0       0.66      0.98      0.78       869\n",
      "           1       0.91      0.32      0.47       654\n",
      "\n",
      "    accuracy                           0.69      1523\n",
      "   macro avg       0.78      0.65      0.63      1523\n",
      "weighted avg       0.77      0.69      0.65      1523\n",
      "\n"
     ]
    }
   ],
   "source": [
    "\n",
    "from sklearn.ensemble import RandomForestClassifier\n",
    "\n",
    "# Define the pipeline\n",
    "RF = Pipeline([\n",
    "    ('vect', CountVectorizer(ngram_range=(3, 3))),  # Trigrams\n",
    "    ('clf', RandomForestClassifier())  # Random Forest classifier\n",
    "])\n",
    "\n",
    "\n",
    "\n",
    "# Fit the pipeline on the training data\n",
    "RF.fit(X_train, y_train)\n",
    "\n",
    "y_pred=RF.predict(X_val)\n",
    "print(classification_report(y_val,y_pred))"
   ]
  },
  {
   "cell_type": "markdown",
   "id": "8b3dbe29-7231-4c61-994d-6c197b99d769",
   "metadata": {},
   "source": [
    "## Multinomial NB with alpha=0.75"
   ]
  },
  {
   "cell_type": "code",
   "execution_count": 49,
   "id": "2606809d-986d-49f5-8768-27a09add5000",
   "metadata": {},
   "outputs": [
    {
     "name": "stdout",
     "output_type": "stream",
     "text": [
      "              precision    recall  f1-score   support\n",
      "\n",
      "           0       0.79      0.88      0.83       869\n",
      "           1       0.81      0.68      0.74       654\n",
      "\n",
      "    accuracy                           0.79      1523\n",
      "   macro avg       0.80      0.78      0.78      1523\n",
      "weighted avg       0.79      0.79      0.79      1523\n",
      "\n"
     ]
    }
   ],
   "source": [
    "\n",
    "from sklearn.naive_bayes import MultinomialNB\n",
    "\n",
    "# Define the pipeline\n",
    "NB = Pipeline([\n",
    "    ('vect', CountVectorizer(ngram_range=(1, 2))),  # Unigrams and bigrams\n",
    "    ('clf', MultinomialNB(alpha=0.75))  # Multinomial Naive Bayes classifier with alpha=0.75\n",
    "])\n",
    "\n",
    "\n",
    "# Fit the pipeline on the training data\n",
    "NB.fit(X_train, y_train)\n",
    "\n",
    "y_pred=NB.predict(X_val)\n",
    "\n",
    "print(classification_report(y_val,y_pred))\n",
    "\n"
   ]
  },
  {
   "cell_type": "markdown",
   "id": "c552973c-5b55-401e-9053-2d9faae4f90d",
   "metadata": {},
   "source": [
    "## Apply preprocess text by removing stop words and applying bag of words and lemmatization"
   ]
  },
  {
   "cell_type": "code",
   "execution_count": 27,
   "id": "87e4c3dc-566b-4537-bd0b-36e43f001cdd",
   "metadata": {},
   "outputs": [
    {
     "name": "stderr",
     "output_type": "stream",
     "text": [
      "C:\\Users\\karth\\anaconda3\\envs\\NLP\\Lib\\site-packages\\requests\\__init__.py:86: RequestsDependencyWarning: Unable to find acceptable character detection dependency (chardet or charset_normalizer).\n",
      "  warnings.warn(\n"
     ]
    }
   ],
   "source": [
    "import spacy\n",
    "nlp = spacy.load('en_core_web_sm')\n",
    "\n",
    "def preprocess_text(text):\n",
    "    doc = nlp(text)\n",
    "    filtered_tokens = []\n",
    "    \n",
    "    for token in doc:\n",
    "        if not token.is_stop and not token.is_punct:\n",
    "            filtered_tokens.append(token.lemma_)\n",
    "    \n",
    "    return \" \".join(filtered_tokens)\n"
   ]
  },
  {
   "cell_type": "code",
   "execution_count": 28,
   "id": "49311b9d-6bcc-4409-ba84-774ac2d62998",
   "metadata": {},
   "outputs": [],
   "source": [
    "data['preprocess_text']=data.text.apply(preprocess_text)"
   ]
  },
  {
   "cell_type": "code",
   "execution_count": 35,
   "id": "327d1196-9fb1-4f37-8eff-f5778fa9357e",
   "metadata": {},
   "outputs": [],
   "source": [
    "test_df['preprocess_text']=test_df.text.apply(preprocess_text)"
   ]
  },
  {
   "cell_type": "code",
   "execution_count": 37,
   "id": "7b107d3f-c6ba-4d60-9b4a-a4b0df00c720",
   "metadata": {},
   "outputs": [
    {
     "data": {
      "text/html": [
       "<div>\n",
       "<style scoped>\n",
       "    .dataframe tbody tr th:only-of-type {\n",
       "        vertical-align: middle;\n",
       "    }\n",
       "\n",
       "    .dataframe tbody tr th {\n",
       "        vertical-align: top;\n",
       "    }\n",
       "\n",
       "    .dataframe thead th {\n",
       "        text-align: right;\n",
       "    }\n",
       "</style>\n",
       "<table border=\"1\" class=\"dataframe\">\n",
       "  <thead>\n",
       "    <tr style=\"text-align: right;\">\n",
       "      <th></th>\n",
       "      <th>id</th>\n",
       "      <th>text</th>\n",
       "      <th>target</th>\n",
       "      <th>preprocess_text</th>\n",
       "    </tr>\n",
       "  </thead>\n",
       "  <tbody>\n",
       "    <tr>\n",
       "      <th>0</th>\n",
       "      <td>1</td>\n",
       "      <td>Our Deeds are the Reason of this #earthquake M...</td>\n",
       "      <td>1</td>\n",
       "      <td>deed Reason earthquake ALLAH forgive</td>\n",
       "    </tr>\n",
       "    <tr>\n",
       "      <th>1</th>\n",
       "      <td>4</td>\n",
       "      <td>Forest fire near La Ronge Sask. Canada</td>\n",
       "      <td>1</td>\n",
       "      <td>forest fire near La Ronge Sask Canada</td>\n",
       "    </tr>\n",
       "    <tr>\n",
       "      <th>2</th>\n",
       "      <td>5</td>\n",
       "      <td>All residents asked to 'shelter in place' are ...</td>\n",
       "      <td>1</td>\n",
       "      <td>resident ask shelter place notify officer evac...</td>\n",
       "    </tr>\n",
       "    <tr>\n",
       "      <th>3</th>\n",
       "      <td>6</td>\n",
       "      <td>13,000 people receive #wildfires evacuation or...</td>\n",
       "      <td>1</td>\n",
       "      <td>13,000 people receive wildfire evacuation orde...</td>\n",
       "    </tr>\n",
       "    <tr>\n",
       "      <th>4</th>\n",
       "      <td>7</td>\n",
       "      <td>Just got sent this photo from Ruby #Alaska as ...</td>\n",
       "      <td>1</td>\n",
       "      <td>get send photo Ruby Alaska smoke wildfire pour...</td>\n",
       "    </tr>\n",
       "  </tbody>\n",
       "</table>\n",
       "</div>"
      ],
      "text/plain": [
       "   id                                               text  target  \\\n",
       "0   1  Our Deeds are the Reason of this #earthquake M...       1   \n",
       "1   4             Forest fire near La Ronge Sask. Canada       1   \n",
       "2   5  All residents asked to 'shelter in place' are ...       1   \n",
       "3   6  13,000 people receive #wildfires evacuation or...       1   \n",
       "4   7  Just got sent this photo from Ruby #Alaska as ...       1   \n",
       "\n",
       "                                     preprocess_text  \n",
       "0               deed Reason earthquake ALLAH forgive  \n",
       "1              forest fire near La Ronge Sask Canada  \n",
       "2  resident ask shelter place notify officer evac...  \n",
       "3  13,000 people receive wildfire evacuation orde...  \n",
       "4  get send photo Ruby Alaska smoke wildfire pour...  "
      ]
     },
     "execution_count": 37,
     "metadata": {},
     "output_type": "execute_result"
    }
   ],
   "source": [
    "data.head()"
   ]
  },
  {
   "cell_type": "code",
   "execution_count": 39,
   "id": "e5ea5020-93bc-4f72-b5b7-97bc9c55fa2c",
   "metadata": {},
   "outputs": [],
   "source": [
    "X=data['preprocess_text']\n",
    "y=data['target']\n",
    "X_test=test_df['preprocess_text']"
   ]
  },
  {
   "cell_type": "markdown",
   "id": "8000ac57-e035-4763-99cd-d88ab65c133c",
   "metadata": {},
   "source": [
    "## Random Forest"
   ]
  },
  {
   "cell_type": "code",
   "execution_count": 42,
   "id": "1afece6e-0508-4b87-9ea9-cfd6987c73da",
   "metadata": {},
   "outputs": [],
   "source": [
    "from sklearn.model_selection import train_test_split\n",
    "\n",
    "X_train,X_val,y_train,y_val=train_test_split(X,\n",
    "                                             y,\n",
    "                                              test_size=0.2,\n",
    "                                              random_state=2024,\n",
    "                                              stratify=y\n",
    "                                              )\n"
   ]
  },
  {
   "cell_type": "code",
   "execution_count": 49,
   "id": "ddde937b-64eb-46b9-9938-369589032a29",
   "metadata": {},
   "outputs": [
    {
     "name": "stdout",
     "output_type": "stream",
     "text": [
      "              precision    recall  f1-score   support\n",
      "\n",
      "           0       0.66      0.97      0.78       869\n",
      "           1       0.90      0.33      0.48       654\n",
      "\n",
      "    accuracy                           0.70      1523\n",
      "   macro avg       0.78      0.65      0.63      1523\n",
      "weighted avg       0.76      0.70      0.65      1523\n",
      "\n"
     ]
    }
   ],
   "source": [
    "\n",
    "from sklearn.ensemble import RandomForestClassifier\n",
    "\n",
    "# Define the pipeline\n",
    "RF = Pipeline([\n",
    "    ('vect', CountVectorizer(ngram_range=(3, 3))),  # Trigrams\n",
    "    ('clf', RandomForestClassifier())  # Random Forest classifier\n",
    "])\n",
    "\n",
    "\n",
    "\n",
    "# Fit the pipeline on the training data\n",
    "RF.fit(X_train, y_train)\n",
    "\n",
    "y_pred=RF.predict(X_val)\n",
    "print(classification_report(y_val,y_pred))"
   ]
  },
  {
   "cell_type": "code",
   "execution_count": 51,
   "id": "c35c1d71-2da6-44c7-80f8-a67ca924b350",
   "metadata": {},
   "outputs": [
    {
     "name": "stdout",
     "output_type": "stream",
     "text": [
      "Epoch 1/200\n"
     ]
    },
    {
     "name": "stderr",
     "output_type": "stream",
     "text": [
      "C:\\Users\\karth\\anaconda3\\envs\\NLP\\Lib\\site-packages\\keras\\src\\layers\\core\\dense.py:87: UserWarning: Do not pass an `input_shape`/`input_dim` argument to a layer. When using Sequential models, prefer using an `Input(shape)` object as the first layer in the model instead.\n",
      "  super().__init__(activity_regularizer=activity_regularizer, **kwargs)\n"
     ]
    },
    {
     "ename": "UnimplementedError",
     "evalue": "Graph execution error:\n\nDetected at node sequential_1/Cast defined at (most recent call last):\n  File \"<frozen runpy>\", line 198, in _run_module_as_main\n\n  File \"<frozen runpy>\", line 88, in _run_code\n\n  File \"C:\\Users\\karth\\anaconda3\\envs\\NLP\\Lib\\site-packages\\ipykernel_launcher.py\", line 17, in <module>\n\n  File \"C:\\Users\\karth\\anaconda3\\envs\\NLP\\Lib\\site-packages\\traitlets\\config\\application.py\", line 1075, in launch_instance\n\n  File \"C:\\Users\\karth\\anaconda3\\envs\\NLP\\Lib\\site-packages\\ipykernel\\kernelapp.py\", line 701, in start\n\n  File \"C:\\Users\\karth\\anaconda3\\envs\\NLP\\Lib\\site-packages\\tornado\\platform\\asyncio.py\", line 205, in start\n\n  File \"C:\\Users\\karth\\anaconda3\\envs\\NLP\\Lib\\asyncio\\windows_events.py\", line 321, in run_forever\n\n  File \"C:\\Users\\karth\\anaconda3\\envs\\NLP\\Lib\\asyncio\\base_events.py\", line 608, in run_forever\n\n  File \"C:\\Users\\karth\\anaconda3\\envs\\NLP\\Lib\\asyncio\\base_events.py\", line 1936, in _run_once\n\n  File \"C:\\Users\\karth\\anaconda3\\envs\\NLP\\Lib\\asyncio\\events.py\", line 84, in _run\n\n  File \"C:\\Users\\karth\\anaconda3\\envs\\NLP\\Lib\\site-packages\\ipykernel\\kernelbase.py\", line 534, in dispatch_queue\n\n  File \"C:\\Users\\karth\\anaconda3\\envs\\NLP\\Lib\\site-packages\\ipykernel\\kernelbase.py\", line 523, in process_one\n\n  File \"C:\\Users\\karth\\anaconda3\\envs\\NLP\\Lib\\site-packages\\ipykernel\\kernelbase.py\", line 429, in dispatch_shell\n\n  File \"C:\\Users\\karth\\anaconda3\\envs\\NLP\\Lib\\site-packages\\ipykernel\\kernelbase.py\", line 767, in execute_request\n\n  File \"C:\\Users\\karth\\anaconda3\\envs\\NLP\\Lib\\site-packages\\ipykernel\\ipkernel.py\", line 429, in do_execute\n\n  File \"C:\\Users\\karth\\anaconda3\\envs\\NLP\\Lib\\site-packages\\ipykernel\\zmqshell.py\", line 549, in run_cell\n\n  File \"C:\\Users\\karth\\anaconda3\\envs\\NLP\\Lib\\site-packages\\IPython\\core\\interactiveshell.py\", line 3075, in run_cell\n\n  File \"C:\\Users\\karth\\anaconda3\\envs\\NLP\\Lib\\site-packages\\IPython\\core\\interactiveshell.py\", line 3130, in _run_cell\n\n  File \"C:\\Users\\karth\\anaconda3\\envs\\NLP\\Lib\\site-packages\\IPython\\core\\async_helpers.py\", line 129, in _pseudo_sync_runner\n\n  File \"C:\\Users\\karth\\anaconda3\\envs\\NLP\\Lib\\site-packages\\IPython\\core\\interactiveshell.py\", line 3334, in run_cell_async\n\n  File \"C:\\Users\\karth\\anaconda3\\envs\\NLP\\Lib\\site-packages\\IPython\\core\\interactiveshell.py\", line 3517, in run_ast_nodes\n\n  File \"C:\\Users\\karth\\anaconda3\\envs\\NLP\\Lib\\site-packages\\IPython\\core\\interactiveshell.py\", line 3577, in run_code\n\n  File \"C:\\Users\\karth\\AppData\\Local\\Temp\\ipykernel_14664\\3586230874.py\", line 28, in <module>\n\n  File \"C:\\Users\\karth\\anaconda3\\envs\\NLP\\Lib\\site-packages\\keras\\src\\utils\\traceback_utils.py\", line 117, in error_handler\n\n  File \"C:\\Users\\karth\\anaconda3\\envs\\NLP\\Lib\\site-packages\\keras\\src\\backend\\tensorflow\\trainer.py\", line 318, in fit\n\n  File \"C:\\Users\\karth\\anaconda3\\envs\\NLP\\Lib\\site-packages\\keras\\src\\backend\\tensorflow\\trainer.py\", line 121, in one_step_on_iterator\n\n  File \"C:\\Users\\karth\\anaconda3\\envs\\NLP\\Lib\\site-packages\\keras\\src\\backend\\tensorflow\\trainer.py\", line 108, in one_step_on_data\n\n  File \"C:\\Users\\karth\\anaconda3\\envs\\NLP\\Lib\\site-packages\\keras\\src\\backend\\tensorflow\\trainer.py\", line 51, in train_step\n\n  File \"C:\\Users\\karth\\anaconda3\\envs\\NLP\\Lib\\site-packages\\keras\\src\\utils\\traceback_utils.py\", line 117, in error_handler\n\n  File \"C:\\Users\\karth\\anaconda3\\envs\\NLP\\Lib\\site-packages\\keras\\src\\layers\\layer.py\", line 882, in __call__\n\n  File \"C:\\Users\\karth\\anaconda3\\envs\\NLP\\Lib\\site-packages\\keras\\src\\utils\\traceback_utils.py\", line 117, in error_handler\n\n  File \"C:\\Users\\karth\\anaconda3\\envs\\NLP\\Lib\\site-packages\\keras\\src\\ops\\operation.py\", line 46, in __call__\n\n  File \"C:\\Users\\karth\\anaconda3\\envs\\NLP\\Lib\\site-packages\\keras\\src\\utils\\traceback_utils.py\", line 156, in error_handler\n\n  File \"C:\\Users\\karth\\anaconda3\\envs\\NLP\\Lib\\site-packages\\keras\\src\\models\\sequential.py\", line 209, in call\n\n  File \"C:\\Users\\karth\\anaconda3\\envs\\NLP\\Lib\\site-packages\\keras\\src\\models\\functional.py\", line 167, in call\n\n  File \"C:\\Users\\karth\\anaconda3\\envs\\NLP\\Lib\\site-packages\\keras\\src\\models\\functional.py\", line 258, in _standardize_inputs\n\n  File \"C:\\Users\\karth\\anaconda3\\envs\\NLP\\Lib\\site-packages\\keras\\src\\models\\functional.py\", line 218, in _convert_inputs_to_tensors\n\n  File \"C:\\Users\\karth\\anaconda3\\envs\\NLP\\Lib\\site-packages\\keras\\src\\ops\\core.py\", line 743, in convert_to_tensor\n\n  File \"C:\\Users\\karth\\anaconda3\\envs\\NLP\\Lib\\site-packages\\keras\\src\\backend\\tensorflow\\core.py\", line 120, in convert_to_tensor\n\nCast string to float is not supported\n\t [[{{node sequential_1/Cast}}]] [Op:__inference_one_step_on_iterator_2264]",
     "output_type": "error",
     "traceback": [
      "\u001b[1;31m---------------------------------------------------------------------------\u001b[0m",
      "\u001b[1;31mUnimplementedError\u001b[0m                        Traceback (most recent call last)",
      "Cell \u001b[1;32mIn[51], line 28\u001b[0m\n\u001b[0;32m     20\u001b[0m model\u001b[38;5;241m.\u001b[39mcompile(\n\u001b[0;32m     21\u001b[0m     loss\u001b[38;5;241m=\u001b[39m\u001b[38;5;124m'\u001b[39m\u001b[38;5;124mbinary_crossentropy\u001b[39m\u001b[38;5;124m'\u001b[39m,  \u001b[38;5;66;03m# Use binary crossentropy for binary classification\u001b[39;00m\n\u001b[0;32m     22\u001b[0m     optimizer\u001b[38;5;241m=\u001b[39moptimizer,\n\u001b[0;32m     23\u001b[0m     metrics\u001b[38;5;241m=\u001b[39m[\u001b[38;5;124m'\u001b[39m\u001b[38;5;124maccuracy\u001b[39m\u001b[38;5;124m'\u001b[39m]  \u001b[38;5;66;03m# 'accuracy' is typically used for binary classification\u001b[39;00m\n\u001b[0;32m     24\u001b[0m )\n\u001b[0;32m     26\u001b[0m early_stopping \u001b[38;5;241m=\u001b[39m EarlyStopping(monitor\u001b[38;5;241m=\u001b[39m\u001b[38;5;124m'\u001b[39m\u001b[38;5;124mval_loss\u001b[39m\u001b[38;5;124m'\u001b[39m, patience\u001b[38;5;241m=\u001b[39m\u001b[38;5;241m10\u001b[39m, restore_best_weights\u001b[38;5;241m=\u001b[39m\u001b[38;5;28;01mTrue\u001b[39;00m)\n\u001b[1;32m---> 28\u001b[0m history \u001b[38;5;241m=\u001b[39m model\u001b[38;5;241m.\u001b[39mfit(\n\u001b[0;32m     29\u001b[0m     X_train, y_train,\n\u001b[0;32m     30\u001b[0m     epochs\u001b[38;5;241m=\u001b[39m\u001b[38;5;241m200\u001b[39m,\n\u001b[0;32m     31\u001b[0m     verbose\u001b[38;5;241m=\u001b[39m\u001b[38;5;241m1\u001b[39m,\n\u001b[0;32m     32\u001b[0m     validation_split\u001b[38;5;241m=\u001b[39m\u001b[38;5;241m0.2\u001b[39m,\n\u001b[0;32m     33\u001b[0m     callbacks\u001b[38;5;241m=\u001b[39m[early_stopping]\n\u001b[0;32m     34\u001b[0m )\n",
      "File \u001b[1;32m~\\anaconda3\\envs\\NLP\\Lib\\site-packages\\keras\\src\\utils\\traceback_utils.py:122\u001b[0m, in \u001b[0;36mfilter_traceback.<locals>.error_handler\u001b[1;34m(*args, **kwargs)\u001b[0m\n\u001b[0;32m    119\u001b[0m     filtered_tb \u001b[38;5;241m=\u001b[39m _process_traceback_frames(e\u001b[38;5;241m.\u001b[39m__traceback__)\n\u001b[0;32m    120\u001b[0m     \u001b[38;5;66;03m# To get the full stack trace, call:\u001b[39;00m\n\u001b[0;32m    121\u001b[0m     \u001b[38;5;66;03m# `keras.config.disable_traceback_filtering()`\u001b[39;00m\n\u001b[1;32m--> 122\u001b[0m     \u001b[38;5;28;01mraise\u001b[39;00m e\u001b[38;5;241m.\u001b[39mwith_traceback(filtered_tb) \u001b[38;5;28;01mfrom\u001b[39;00m \u001b[38;5;28;01mNone\u001b[39;00m\n\u001b[0;32m    123\u001b[0m \u001b[38;5;28;01mfinally\u001b[39;00m:\n\u001b[0;32m    124\u001b[0m     \u001b[38;5;28;01mdel\u001b[39;00m filtered_tb\n",
      "File \u001b[1;32m~\\anaconda3\\envs\\NLP\\Lib\\site-packages\\tensorflow\\python\\eager\\execute.py:53\u001b[0m, in \u001b[0;36mquick_execute\u001b[1;34m(op_name, num_outputs, inputs, attrs, ctx, name)\u001b[0m\n\u001b[0;32m     51\u001b[0m \u001b[38;5;28;01mtry\u001b[39;00m:\n\u001b[0;32m     52\u001b[0m   ctx\u001b[38;5;241m.\u001b[39mensure_initialized()\n\u001b[1;32m---> 53\u001b[0m   tensors \u001b[38;5;241m=\u001b[39m pywrap_tfe\u001b[38;5;241m.\u001b[39mTFE_Py_Execute(ctx\u001b[38;5;241m.\u001b[39m_handle, device_name, op_name,\n\u001b[0;32m     54\u001b[0m                                       inputs, attrs, num_outputs)\n\u001b[0;32m     55\u001b[0m \u001b[38;5;28;01mexcept\u001b[39;00m core\u001b[38;5;241m.\u001b[39m_NotOkStatusException \u001b[38;5;28;01mas\u001b[39;00m e:\n\u001b[0;32m     56\u001b[0m   \u001b[38;5;28;01mif\u001b[39;00m name \u001b[38;5;129;01mis\u001b[39;00m \u001b[38;5;129;01mnot\u001b[39;00m \u001b[38;5;28;01mNone\u001b[39;00m:\n",
      "\u001b[1;31mUnimplementedError\u001b[0m: Graph execution error:\n\nDetected at node sequential_1/Cast defined at (most recent call last):\n  File \"<frozen runpy>\", line 198, in _run_module_as_main\n\n  File \"<frozen runpy>\", line 88, in _run_code\n\n  File \"C:\\Users\\karth\\anaconda3\\envs\\NLP\\Lib\\site-packages\\ipykernel_launcher.py\", line 17, in <module>\n\n  File \"C:\\Users\\karth\\anaconda3\\envs\\NLP\\Lib\\site-packages\\traitlets\\config\\application.py\", line 1075, in launch_instance\n\n  File \"C:\\Users\\karth\\anaconda3\\envs\\NLP\\Lib\\site-packages\\ipykernel\\kernelapp.py\", line 701, in start\n\n  File \"C:\\Users\\karth\\anaconda3\\envs\\NLP\\Lib\\site-packages\\tornado\\platform\\asyncio.py\", line 205, in start\n\n  File \"C:\\Users\\karth\\anaconda3\\envs\\NLP\\Lib\\asyncio\\windows_events.py\", line 321, in run_forever\n\n  File \"C:\\Users\\karth\\anaconda3\\envs\\NLP\\Lib\\asyncio\\base_events.py\", line 608, in run_forever\n\n  File \"C:\\Users\\karth\\anaconda3\\envs\\NLP\\Lib\\asyncio\\base_events.py\", line 1936, in _run_once\n\n  File \"C:\\Users\\karth\\anaconda3\\envs\\NLP\\Lib\\asyncio\\events.py\", line 84, in _run\n\n  File \"C:\\Users\\karth\\anaconda3\\envs\\NLP\\Lib\\site-packages\\ipykernel\\kernelbase.py\", line 534, in dispatch_queue\n\n  File \"C:\\Users\\karth\\anaconda3\\envs\\NLP\\Lib\\site-packages\\ipykernel\\kernelbase.py\", line 523, in process_one\n\n  File \"C:\\Users\\karth\\anaconda3\\envs\\NLP\\Lib\\site-packages\\ipykernel\\kernelbase.py\", line 429, in dispatch_shell\n\n  File \"C:\\Users\\karth\\anaconda3\\envs\\NLP\\Lib\\site-packages\\ipykernel\\kernelbase.py\", line 767, in execute_request\n\n  File \"C:\\Users\\karth\\anaconda3\\envs\\NLP\\Lib\\site-packages\\ipykernel\\ipkernel.py\", line 429, in do_execute\n\n  File \"C:\\Users\\karth\\anaconda3\\envs\\NLP\\Lib\\site-packages\\ipykernel\\zmqshell.py\", line 549, in run_cell\n\n  File \"C:\\Users\\karth\\anaconda3\\envs\\NLP\\Lib\\site-packages\\IPython\\core\\interactiveshell.py\", line 3075, in run_cell\n\n  File \"C:\\Users\\karth\\anaconda3\\envs\\NLP\\Lib\\site-packages\\IPython\\core\\interactiveshell.py\", line 3130, in _run_cell\n\n  File \"C:\\Users\\karth\\anaconda3\\envs\\NLP\\Lib\\site-packages\\IPython\\core\\async_helpers.py\", line 129, in _pseudo_sync_runner\n\n  File \"C:\\Users\\karth\\anaconda3\\envs\\NLP\\Lib\\site-packages\\IPython\\core\\interactiveshell.py\", line 3334, in run_cell_async\n\n  File \"C:\\Users\\karth\\anaconda3\\envs\\NLP\\Lib\\site-packages\\IPython\\core\\interactiveshell.py\", line 3517, in run_ast_nodes\n\n  File \"C:\\Users\\karth\\anaconda3\\envs\\NLP\\Lib\\site-packages\\IPython\\core\\interactiveshell.py\", line 3577, in run_code\n\n  File \"C:\\Users\\karth\\AppData\\Local\\Temp\\ipykernel_14664\\3586230874.py\", line 28, in <module>\n\n  File \"C:\\Users\\karth\\anaconda3\\envs\\NLP\\Lib\\site-packages\\keras\\src\\utils\\traceback_utils.py\", line 117, in error_handler\n\n  File \"C:\\Users\\karth\\anaconda3\\envs\\NLP\\Lib\\site-packages\\keras\\src\\backend\\tensorflow\\trainer.py\", line 318, in fit\n\n  File \"C:\\Users\\karth\\anaconda3\\envs\\NLP\\Lib\\site-packages\\keras\\src\\backend\\tensorflow\\trainer.py\", line 121, in one_step_on_iterator\n\n  File \"C:\\Users\\karth\\anaconda3\\envs\\NLP\\Lib\\site-packages\\keras\\src\\backend\\tensorflow\\trainer.py\", line 108, in one_step_on_data\n\n  File \"C:\\Users\\karth\\anaconda3\\envs\\NLP\\Lib\\site-packages\\keras\\src\\backend\\tensorflow\\trainer.py\", line 51, in train_step\n\n  File \"C:\\Users\\karth\\anaconda3\\envs\\NLP\\Lib\\site-packages\\keras\\src\\utils\\traceback_utils.py\", line 117, in error_handler\n\n  File \"C:\\Users\\karth\\anaconda3\\envs\\NLP\\Lib\\site-packages\\keras\\src\\layers\\layer.py\", line 882, in __call__\n\n  File \"C:\\Users\\karth\\anaconda3\\envs\\NLP\\Lib\\site-packages\\keras\\src\\utils\\traceback_utils.py\", line 117, in error_handler\n\n  File \"C:\\Users\\karth\\anaconda3\\envs\\NLP\\Lib\\site-packages\\keras\\src\\ops\\operation.py\", line 46, in __call__\n\n  File \"C:\\Users\\karth\\anaconda3\\envs\\NLP\\Lib\\site-packages\\keras\\src\\utils\\traceback_utils.py\", line 156, in error_handler\n\n  File \"C:\\Users\\karth\\anaconda3\\envs\\NLP\\Lib\\site-packages\\keras\\src\\models\\sequential.py\", line 209, in call\n\n  File \"C:\\Users\\karth\\anaconda3\\envs\\NLP\\Lib\\site-packages\\keras\\src\\models\\functional.py\", line 167, in call\n\n  File \"C:\\Users\\karth\\anaconda3\\envs\\NLP\\Lib\\site-packages\\keras\\src\\models\\functional.py\", line 258, in _standardize_inputs\n\n  File \"C:\\Users\\karth\\anaconda3\\envs\\NLP\\Lib\\site-packages\\keras\\src\\models\\functional.py\", line 218, in _convert_inputs_to_tensors\n\n  File \"C:\\Users\\karth\\anaconda3\\envs\\NLP\\Lib\\site-packages\\keras\\src\\ops\\core.py\", line 743, in convert_to_tensor\n\n  File \"C:\\Users\\karth\\anaconda3\\envs\\NLP\\Lib\\site-packages\\keras\\src\\backend\\tensorflow\\core.py\", line 120, in convert_to_tensor\n\nCast string to float is not supported\n\t [[{{node sequential_1/Cast}}]] [Op:__inference_one_step_on_iterator_2264]"
     ]
    }
   ],
   "source": [
    "from tensorflow.keras.models import Sequential\n",
    "from tensorflow.keras.layers import Dense, Dropout\n",
    "from tensorflow.keras.optimizers import Adam\n",
    "from tensorflow.keras.callbacks import EarlyStopping\n",
    "import tensorflow as tf\n",
    "\n",
    "model = Sequential([\n",
    "    Dense(180, activation='relu', input_shape=(1,)),\n",
    "    Dropout(0.2),\n",
    "    Dense(170, activation='relu'),\n",
    "    Dropout(0.2),\n",
    "    Dense(100, activation='relu'),\n",
    "    Dropout(0.2),\n",
    "    Dense(50, activation='relu'),\n",
    "    Dense(1, activation='sigmoid')  # Use sigmoid activation for binary classification\n",
    "])\n",
    "\n",
    "optimizer = Adam(learning_rate=0.001)\n",
    "\n",
    "model.compile(\n",
    "    loss='binary_crossentropy',  # Use binary crossentropy for binary classification\n",
    "    optimizer=optimizer,\n",
    "    metrics=['accuracy']  # 'accuracy' is typically used for binary classification\n",
    ")\n",
    "\n",
    "early_stopping = EarlyStopping(monitor='val_loss', patience=10, restore_best_weights=True)\n",
    "\n",
    "history = model.fit(\n",
    "    X_train, y_train,\n",
    "    epochs=200,\n",
    "    verbose=1,\n",
    "    validation_split=0.2,\n",
    "    callbacks=[early_stopping]\n",
    ")\n"
   ]
  },
  {
   "cell_type": "code",
   "execution_count": 65,
   "id": "16478339-45b3-4766-8d3c-ec403f79a23d",
   "metadata": {},
   "outputs": [
    {
     "name": "stdout",
     "output_type": "stream",
     "text": [
      "              precision    recall  f1-score   support\n",
      "\n",
      "           0       0.73      0.95      0.83       869\n",
      "           1       0.90      0.54      0.67       654\n",
      "\n",
      "    accuracy                           0.78      1523\n",
      "   macro avg       0.82      0.75      0.75      1523\n",
      "weighted avg       0.80      0.78      0.76      1523\n",
      "\n"
     ]
    }
   ],
   "source": [
    "\n",
    "from sklearn.ensemble import RandomForestClassifier\n",
    "\n",
    "# Define the pipeline\n",
    "RF = Pipeline([\n",
    "    ('vect', CountVectorizer(ngram_range=(1, 2))),  \n",
    "    ('clf', RandomForestClassifier())  \n",
    "])\n",
    "\n",
    "\n",
    "\n",
    "# Fit the pipeline on the training data\n",
    "RF.fit(X_train, y_train)\n",
    "\n",
    "y_pred=RF.predict(X_val)\n",
    "print(classification_report(y_val,y_pred))"
   ]
  },
  {
   "cell_type": "code",
   "execution_count": 66,
   "id": "0c906c4d-bde7-43d3-aa3d-3d2e0548d7e6",
   "metadata": {},
   "outputs": [
    {
     "name": "stdout",
     "output_type": "stream",
     "text": [
      "              precision    recall  f1-score   support\n",
      "\n",
      "           0       0.75      0.92      0.82       869\n",
      "           1       0.84      0.59      0.69       654\n",
      "\n",
      "    accuracy                           0.78      1523\n",
      "   macro avg       0.79      0.75      0.76      1523\n",
      "weighted avg       0.79      0.78      0.77      1523\n",
      "\n"
     ]
    }
   ],
   "source": [
    "\n",
    "from sklearn.ensemble import RandomForestClassifier\n",
    "\n",
    "# Define the pipeline\n",
    "RF = Pipeline([\n",
    "    ('vect', CountVectorizer()),\n",
    "    ('clf', RandomForestClassifier())  \n",
    "])\n",
    "\n",
    "\n",
    "\n",
    "# Fit the pipeline on the training data\n",
    "RF.fit(X_train, y_train)\n",
    "\n",
    "y_pred=RF.predict(X_val)\n",
    "print(classification_report(y_val,y_pred))"
   ]
  },
  {
   "cell_type": "code",
   "execution_count": 67,
   "id": "2866d3cb-bde1-4c81-a2b3-81344ef36ec1",
   "metadata": {},
   "outputs": [
    {
     "name": "stdout",
     "output_type": "stream",
     "text": [
      "              precision    recall  f1-score   support\n",
      "\n",
      "           0       0.79      0.84      0.81       869\n",
      "           1       0.77      0.71      0.74       654\n",
      "\n",
      "    accuracy                           0.78      1523\n",
      "   macro avg       0.78      0.77      0.78      1523\n",
      "weighted avg       0.78      0.78      0.78      1523\n",
      "\n"
     ]
    }
   ],
   "source": [
    "\n",
    "from sklearn.naive_bayes import MultinomialNB\n",
    "from sklearn.pipeline import Pipeline\n",
    "from sklearn.feature_extraction.text import CountVectorizer\n",
    "#from sklearn.metrics import ClassificationReport\n",
    "# Define the pipeline\n",
    "NB = Pipeline([\n",
    "    ('vect', CountVectorizer()),  \n",
    "    ('clf', MultinomialNB())  \n",
    "])\n",
    "\n",
    "\n",
    "# Fit the pipeline on the training data\n",
    "NB.fit(X_train, y_train)\n",
    "\n",
    "y_pred=NB.predict(X_val)\n",
    "\n",
    "print(classification_report(y_val,y_pred))\n",
    "\n"
   ]
  },
  {
   "cell_type": "markdown",
   "id": "5b97612a-c8a2-4ec4-a252-92652eb73948",
   "metadata": {},
   "source": [
    "## Random forest with Hyper parametres"
   ]
  },
  {
   "cell_type": "code",
   "execution_count": 73,
   "id": "ddf9a590-3219-4fc4-98ce-9ef62a0de19c",
   "metadata": {},
   "outputs": [
    {
     "name": "stdout",
     "output_type": "stream",
     "text": [
      "              precision    recall  f1-score   support\n",
      "\n",
      "           0       0.75      0.92      0.83       869\n",
      "           1       0.85      0.60      0.70       654\n",
      "\n",
      "    accuracy                           0.78      1523\n",
      "   macro avg       0.80      0.76      0.76      1523\n",
      "weighted avg       0.79      0.78      0.77      1523\n",
      "\n"
     ]
    }
   ],
   "source": [
    "\n",
    "from sklearn.ensemble import RandomForestClassifier\n",
    "\n",
    "# Define the pipeline\n",
    "RF = Pipeline([\n",
    "    ('vect', CountVectorizer()),\n",
    "    ('clf', RandomForestClassifier(n_estimators=100,criterion='entropy'))  \n",
    "])\n",
    "\n",
    "\n",
    "\n",
    "# Fit the pipeline on the training data\n",
    "RF.fit(X_train, y_train)\n",
    "\n",
    "y_pred=RF.predict(X_val)\n",
    "print(classification_report(y_val,y_pred))"
   ]
  },
  {
   "cell_type": "code",
   "execution_count": 75,
   "id": "aca1744b-13dc-4560-a3c5-744882d01eaf",
   "metadata": {},
   "outputs": [
    {
     "data": {
      "image/png": "[encoded data removed]",
      "text/plain": [
       "<Figure size 1000x600 with 1 Axes>"
      ]
     },
     "metadata": {},
     "output_type": "display_data"
    }
   ],
   "source": [
    "import matplotlib.pyplot as plt\n",
    "import seaborn as sns\n",
    "import pandas as pd\n",
    "\n",
    "# Data\n",
    "data = {\n",
    "    'Model': ['KNN (Euclidean)', 'KNN (Cosine)', 'RF (CV-Trigram)', 'MultinomialNB (α=0.75)',\n",
    "              'RF (Trigram)', 'RF (Unigram, Bigram, Trigram)', 'RF', 'MultinomialNB'],\n",
    "    'Accuracy (%)': [63, 74, 69, 79, 70, 77, 78, 80],\n",
    "    'Preprocessing': ['Without Preprocess'] * 4 + ['With Preprocess'] * 4\n",
    "}\n",
    "\n",
    "df = pd.DataFrame(data)\n",
    "\n",
    "# Plot using Seaborn\n",
    "plt.figure(figsize=(10, 6))\n",
    "sns.barplot(x='Model', y='Accuracy (%)', hue='Preprocessing', data=df,\n",
    "            palette={'Without Preprocess': 'deepskyblue', 'With Preprocess': 'orange'})\n",
    "plt.xlabel('Models')\n",
    "plt.ylabel('Accuracy (%)')\n",
    "plt.title('Accuracy of Text Classification Models with and without Preprocessing')\n",
    "plt.ylim(0, 100)  # Set y-axis limit from 0 to 100 for better visualization\n",
    "plt.legend(title='Preprocessing')\n",
    "plt.xticks(rotation=45, ha='right')\n",
    "plt.tight_layout()\n",
    "\n",
    "# Show plot\n",
    "plt.show()\n"
   ]
  },
  {
   "cell_type": "markdown",
   "id": "287e98ed-3101-4d6e-aea1-7d094e035e38",
   "metadata": {},
   "source": [
    "## To check Prediction for testing the messages whether they are disasters related messages or not"
   ]
  },
  {
   "cell_type": "code",
   "execution_count": 78,
   "id": "f38a8a18-d145-45ab-b793-48e3eeaea56a",
   "metadata": {},
   "outputs": [
    {
     "data": {
      "text/plain": [
       "<6090x16988 sparse matrix of type '<class 'numpy.int64'>'\n",
       "\twith 61702 stored elements in Compressed Sparse Row format>"
      ]
     },
     "execution_count": 78,
     "metadata": {},
     "output_type": "execute_result"
    }
   ],
   "source": [
    "from sklearn.feature_extraction.text import CountVectorizer\n",
    "\n",
    "v=CountVectorizer()\n",
    "\n",
    "X_train_cv=v.fit_transform(X_train.values)\n",
    "X_train_cv"
   ]
  },
  {
   "cell_type": "code",
   "execution_count": 80,
   "id": "f04df62f-8916-403d-8518-65b0a647e7f1",
   "metadata": {},
   "outputs": [
    {
     "data": {
      "text/html": [
       "<style>#sk-container-id-1 {\n",
       "  /* Definition of color scheme common for light and dark mode */\n",
       "  --sklearn-color-text: black;\n",
       "  --sklearn-color-line: gray;\n",
       "  /* Definition of color scheme for unfitted estimators */\n",
       "  --sklearn-color-unfitted-level-0: #fff5e6;\n",
       "  --sklearn-color-unfitted-level-1: #f6e4d2;\n",
       "  --sklearn-color-unfitted-level-2: #ffe0b3;\n",
       "  --sklearn-color-unfitted-level-3: chocolate;\n",
       "  /* Definition of color scheme for fitted estimators */\n",
       "  --sklearn-color-fitted-level-0: #f0f8ff;\n",
       "  --sklearn-color-fitted-level-1: #d4ebff;\n",
       "  --sklearn-color-fitted-level-2: #b3dbfd;\n",
       "  --sklearn-color-fitted-level-3: cornflowerblue;\n",
       "\n",
       "  /* Specific color for light theme */\n",
       "  --sklearn-color-text-on-default-background: var(--sg-text-color, var(--theme-code-foreground, var(--jp-content-font-color1, black)));\n",
       "  --sklearn-color-background: var(--sg-background-color, var(--theme-background, var(--jp-layout-color0, white)));\n",
       "  --sklearn-color-border-box: var(--sg-text-color, var(--theme-code-foreground, var(--jp-content-font-color1, black)));\n",
       "  --sklearn-color-icon: #696969;\n",
       "\n",
       "  @media (prefers-color-scheme: dark) {\n",
       "    /* Redefinition of color scheme for dark theme */\n",
       "    --sklearn-color-text-on-default-background: var(--sg-text-color, var(--theme-code-foreground, var(--jp-content-font-color1, white)));\n",
       "    --sklearn-color-background: var(--sg-background-color, var(--theme-background, var(--jp-layout-color0, #111)));\n",
       "    --sklearn-color-border-box: var(--sg-text-color, var(--theme-code-foreground, var(--jp-content-font-color1, white)));\n",
       "    --sklearn-color-icon: #878787;\n",
       "  }\n",
       "}\n",
       "\n",
       "#sk-container-id-1 {\n",
       "  color: var(--sklearn-color-text);\n",
       "}\n",
       "\n",
       "#sk-container-id-1 pre {\n",
       "  padding: 0;\n",
       "}\n",
       "\n",
       "#sk-container-id-1 input.sk-hidden--visually {\n",
       "  border: 0;\n",
       "  clip: rect(1px 1px 1px 1px);\n",
       "  clip: rect(1px, 1px, 1px, 1px);\n",
       "  height: 1px;\n",
       "  margin: -1px;\n",
       "  overflow: hidden;\n",
       "  padding: 0;\n",
       "  position: absolute;\n",
       "  width: 1px;\n",
       "}\n",
       "\n",
       "#sk-container-id-1 div.sk-dashed-wrapped {\n",
       "  border: 1px dashed var(--sklearn-color-line);\n",
       "  margin: 0 0.4em 0.5em 0.4em;\n",
       "  box-sizing: border-box;\n",
       "  padding-bottom: 0.4em;\n",
       "  background-color: var(--sklearn-color-background);\n",
       "}\n",
       "\n",
       "#sk-container-id-1 div.sk-container {\n",
       "  /* jupyter's `normalize.less` sets `[hidden] { display: none; }`\n",
       "     but bootstrap.min.css set `[hidden] { display: none !important; }`\n",
       "     so we also need the `!important` here to be able to override the\n",
       "     default hidden behavior on the sphinx rendered scikit-learn.org.\n",
       "     See: https://github.com/scikit-learn/scikit-learn/issues/21755 */\n",
       "  display: inline-block !important;\n",
       "  position: relative;\n",
       "}\n",
       "\n",
       "#sk-container-id-1 div.sk-text-repr-fallback {\n",
       "  display: none;\n",
       "}\n",
       "\n",
       "div.sk-parallel-item,\n",
       "div.sk-serial,\n",
       "div.sk-item {\n",
       "  /* draw centered vertical line to link estimators */\n",
       "  background-image: linear-gradient(var(--sklearn-color-text-on-default-background), var(--sklearn-color-text-on-default-background));\n",
       "  background-size: 2px 100%;\n",
       "  background-repeat: no-repeat;\n",
       "  background-position: center center;\n",
       "}\n",
       "\n",
       "/* Parallel-specific style estimator block */\n",
       "\n",
       "#sk-container-id-1 div.sk-parallel-item::after {\n",
       "  content: \"\";\n",
       "  width: 100%;\n",
       "  border-bottom: 2px solid var(--sklearn-color-text-on-default-background);\n",
       "  flex-grow: 1;\n",
       "}\n",
       "\n",
       "#sk-container-id-1 div.sk-parallel {\n",
       "  display: flex;\n",
       "  align-items: stretch;\n",
       "  justify-content: center;\n",
       "  background-color: var(--sklearn-color-background);\n",
       "  position: relative;\n",
       "}\n",
       "\n",
       "#sk-container-id-1 div.sk-parallel-item {\n",
       "  display: flex;\n",
       "  flex-direction: column;\n",
       "}\n",
       "\n",
       "#sk-container-id-1 div.sk-parallel-item:first-child::after {\n",
       "  align-self: flex-end;\n",
       "  width: 50%;\n",
       "}\n",
       "\n",
       "#sk-container-id-1 div.sk-parallel-item:last-child::after {\n",
       "  align-self: flex-start;\n",
       "  width: 50%;\n",
       "}\n",
       "\n",
       "#sk-container-id-1 div.sk-parallel-item:only-child::after {\n",
       "  width: 0;\n",
       "}\n",
       "\n",
       "/* Serial-specific style estimator block */\n",
       "\n",
       "#sk-container-id-1 div.sk-serial {\n",
       "  display: flex;\n",
       "  flex-direction: column;\n",
       "  align-items: center;\n",
       "  background-color: var(--sklearn-color-background);\n",
       "  padding-right: 1em;\n",
       "  padding-left: 1em;\n",
       "}\n",
       "\n",
       "\n",
       "/* Toggleable style: style used for estimator/Pipeline/ColumnTransformer box that is\n",
       "clickable and can be expanded/collapsed.\n",
       "- Pipeline and ColumnTransformer use this feature and define the default style\n",
       "- Estimators will overwrite some part of the style using the `sk-estimator` class\n",
       "*/\n",
       "\n",
       "/* Pipeline and ColumnTransformer style (default) */\n",
       "\n",
       "#sk-container-id-1 div.sk-toggleable {\n",
       "  /* Default theme specific background. It is overwritten whether we have a\n",
       "  specific estimator or a Pipeline/ColumnTransformer */\n",
       "  background-color: var(--sklearn-color-background);\n",
       "}\n",
       "\n",
       "/* Toggleable label */\n",
       "#sk-container-id-1 label.sk-toggleable__label {\n",
       "  cursor: pointer;\n",
       "  display: block;\n",
       "  width: 100%;\n",
       "  margin-bottom: 0;\n",
       "  padding: 0.5em;\n",
       "  box-sizing: border-box;\n",
       "  text-align: center;\n",
       "}\n",
       "\n",
       "#sk-container-id-1 label.sk-toggleable__label-arrow:before {\n",
       "  /* Arrow on the left of the label */\n",
       "  content: \"▸\";\n",
       "  float: left;\n",
       "  margin-right: 0.25em;\n",
       "  color: var(--sklearn-color-icon);\n",
       "}\n",
       "\n",
       "#sk-container-id-1 label.sk-toggleable__label-arrow:hover:before {\n",
       "  color: var(--sklearn-color-text);\n",
       "}\n",
       "\n",
       "/* Toggleable content - dropdown */\n",
       "\n",
       "#sk-container-id-1 div.sk-toggleable__content {\n",
       "  max-height: 0;\n",
       "  max-width: 0;\n",
       "  overflow: hidden;\n",
       "  text-align: left;\n",
       "  /* unfitted */\n",
       "  background-color: var(--sklearn-color-unfitted-level-0);\n",
       "}\n",
       "\n",
       "#sk-container-id-1 div.sk-toggleable__content.fitted {\n",
       "  /* fitted */\n",
       "  background-color: var(--sklearn-color-fitted-level-0);\n",
       "}\n",
       "\n",
       "#sk-container-id-1 div.sk-toggleable__content pre {\n",
       "  margin: 0.2em;\n",
       "  border-radius: 0.25em;\n",
       "  color: var(--sklearn-color-text);\n",
       "  /* unfitted */\n",
       "  background-color: var(--sklearn-color-unfitted-level-0);\n",
       "}\n",
       "\n",
       "#sk-container-id-1 div.sk-toggleable__content.fitted pre {\n",
       "  /* unfitted */\n",
       "  background-color: var(--sklearn-color-fitted-level-0);\n",
       "}\n",
       "\n",
       "#sk-container-id-1 input.sk-toggleable__control:checked~div.sk-toggleable__content {\n",
       "  /* Expand drop-down */\n",
       "  max-height: 200px;\n",
       "  max-width: 100%;\n",
       "  overflow: auto;\n",
       "}\n",
       "\n",
       "#sk-container-id-1 input.sk-toggleable__control:checked~label.sk-toggleable__label-arrow:before {\n",
       "  content: \"▾\";\n",
       "}\n",
       "\n",
       "/* Pipeline/ColumnTransformer-specific style */\n",
       "\n",
       "#sk-container-id-1 div.sk-label input.sk-toggleable__control:checked~label.sk-toggleable__label {\n",
       "  color: var(--sklearn-color-text);\n",
       "  background-color: var(--sklearn-color-unfitted-level-2);\n",
       "}\n",
       "\n",
       "#sk-container-id-1 div.sk-label.fitted input.sk-toggleable__control:checked~label.sk-toggleable__label {\n",
       "  background-color: var(--sklearn-color-fitted-level-2);\n",
       "}\n",
       "\n",
       "/* Estimator-specific style */\n",
       "\n",
       "/* Colorize estimator box */\n",
       "#sk-container-id-1 div.sk-estimator input.sk-toggleable__control:checked~label.sk-toggleable__label {\n",
       "  /* unfitted */\n",
       "  background-color: var(--sklearn-color-unfitted-level-2);\n",
       "}\n",
       "\n",
       "#sk-container-id-1 div.sk-estimator.fitted input.sk-toggleable__control:checked~label.sk-toggleable__label {\n",
       "  /* fitted */\n",
       "  background-color: var(--sklearn-color-fitted-level-2);\n",
       "}\n",
       "\n",
       "#sk-container-id-1 div.sk-label label.sk-toggleable__label,\n",
       "#sk-container-id-1 div.sk-label label {\n",
       "  /* The background is the default theme color */\n",
       "  color: var(--sklearn-color-text-on-default-background);\n",
       "}\n",
       "\n",
       "/* On hover, darken the color of the background */\n",
       "#sk-container-id-1 div.sk-label:hover label.sk-toggleable__label {\n",
       "  color: var(--sklearn-color-text);\n",
       "  background-color: var(--sklearn-color-unfitted-level-2);\n",
       "}\n",
       "\n",
       "/* Label box, darken color on hover, fitted */\n",
       "#sk-container-id-1 div.sk-label.fitted:hover label.sk-toggleable__label.fitted {\n",
       "  color: var(--sklearn-color-text);\n",
       "  background-color: var(--sklearn-color-fitted-level-2);\n",
       "}\n",
       "\n",
       "/* Estimator label */\n",
       "\n",
       "#sk-container-id-1 div.sk-label label {\n",
       "  font-family: monospace;\n",
       "  font-weight: bold;\n",
       "  display: inline-block;\n",
       "  line-height: 1.2em;\n",
       "}\n",
       "\n",
       "#sk-container-id-1 div.sk-label-container {\n",
       "  text-align: center;\n",
       "}\n",
       "\n",
       "/* Estimator-specific */\n",
       "#sk-container-id-1 div.sk-estimator {\n",
       "  font-family: monospace;\n",
       "  border: 1px dotted var(--sklearn-color-border-box);\n",
       "  border-radius: 0.25em;\n",
       "  box-sizing: border-box;\n",
       "  margin-bottom: 0.5em;\n",
       "  /* unfitted */\n",
       "  background-color: var(--sklearn-color-unfitted-level-0);\n",
       "}\n",
       "\n",
       "#sk-container-id-1 div.sk-estimator.fitted {\n",
       "  /* fitted */\n",
       "  background-color: var(--sklearn-color-fitted-level-0);\n",
       "}\n",
       "\n",
       "/* on hover */\n",
       "#sk-container-id-1 div.sk-estimator:hover {\n",
       "  /* unfitted */\n",
       "  background-color: var(--sklearn-color-unfitted-level-2);\n",
       "}\n",
       "\n",
       "#sk-container-id-1 div.sk-estimator.fitted:hover {\n",
       "  /* fitted */\n",
       "  background-color: var(--sklearn-color-fitted-level-2);\n",
       "}\n",
       "\n",
       "/* Specification for estimator info (e.g. \"i\" and \"?\") */\n",
       "\n",
       "/* Common style for \"i\" and \"?\" */\n",
       "\n",
       ".sk-estimator-doc-link,\n",
       "a:link.sk-estimator-doc-link,\n",
       "a:visited.sk-estimator-doc-link {\n",
       "  float: right;\n",
       "  font-size: smaller;\n",
       "  line-height: 1em;\n",
       "  font-family: monospace;\n",
       "  background-color: var(--sklearn-color-background);\n",
       "  border-radius: 1em;\n",
       "  height: 1em;\n",
       "  width: 1em;\n",
       "  text-decoration: none !important;\n",
       "  margin-left: 1ex;\n",
       "  /* unfitted */\n",
       "  border: var(--sklearn-color-unfitted-level-1) 1pt solid;\n",
       "  color: var(--sklearn-color-unfitted-level-1);\n",
       "}\n",
       "\n",
       ".sk-estimator-doc-link.fitted,\n",
       "a:link.sk-estimator-doc-link.fitted,\n",
       "a:visited.sk-estimator-doc-link.fitted {\n",
       "  /* fitted */\n",
       "  border: var(--sklearn-color-fitted-level-1) 1pt solid;\n",
       "  color: var(--sklearn-color-fitted-level-1);\n",
       "}\n",
       "\n",
       "/* On hover */\n",
       "div.sk-estimator:hover .sk-estimator-doc-link:hover,\n",
       ".sk-estimator-doc-link:hover,\n",
       "div.sk-label-container:hover .sk-estimator-doc-link:hover,\n",
       ".sk-estimator-doc-link:hover {\n",
       "  /* unfitted */\n",
       "  background-color: var(--sklearn-color-unfitted-level-3);\n",
       "  color: var(--sklearn-color-background);\n",
       "  text-decoration: none;\n",
       "}\n",
       "\n",
       "div.sk-estimator.fitted:hover .sk-estimator-doc-link.fitted:hover,\n",
       ".sk-estimator-doc-link.fitted:hover,\n",
       "div.sk-label-container:hover .sk-estimator-doc-link.fitted:hover,\n",
       ".sk-estimator-doc-link.fitted:hover {\n",
       "  /* fitted */\n",
       "  background-color: var(--sklearn-color-fitted-level-3);\n",
       "  color: var(--sklearn-color-background);\n",
       "  text-decoration: none;\n",
       "}\n",
       "\n",
       "/* Span, style for the box shown on hovering the info icon */\n",
       ".sk-estimator-doc-link span {\n",
       "  display: none;\n",
       "  z-index: 9999;\n",
       "  position: relative;\n",
       "  font-weight: normal;\n",
       "  right: .2ex;\n",
       "  padding: .5ex;\n",
       "  margin: .5ex;\n",
       "  width: min-content;\n",
       "  min-width: 20ex;\n",
       "  max-width: 50ex;\n",
       "  color: var(--sklearn-color-text);\n",
       "  box-shadow: 2pt 2pt 4pt #999;\n",
       "  /* unfitted */\n",
       "  background: var(--sklearn-color-unfitted-level-0);\n",
       "  border: .5pt solid var(--sklearn-color-unfitted-level-3);\n",
       "}\n",
       "\n",
       ".sk-estimator-doc-link.fitted span {\n",
       "  /* fitted */\n",
       "  background: var(--sklearn-color-fitted-level-0);\n",
       "  border: var(--sklearn-color-fitted-level-3);\n",
       "}\n",
       "\n",
       ".sk-estimator-doc-link:hover span {\n",
       "  display: block;\n",
       "}\n",
       "\n",
       "/* \"?\"-specific style due to the `<a>` HTML tag */\n",
       "\n",
       "#sk-container-id-1 a.estimator_doc_link {\n",
       "  float: right;\n",
       "  font-size: 1rem;\n",
       "  line-height: 1em;\n",
       "  font-family: monospace;\n",
       "  background-color: var(--sklearn-color-background);\n",
       "  border-radius: 1rem;\n",
       "  height: 1rem;\n",
       "  width: 1rem;\n",
       "  text-decoration: none;\n",
       "  /* unfitted */\n",
       "  color: var(--sklearn-color-unfitted-level-1);\n",
       "  border: var(--sklearn-color-unfitted-level-1) 1pt solid;\n",
       "}\n",
       "\n",
       "#sk-container-id-1 a.estimator_doc_link.fitted {\n",
       "  /* fitted */\n",
       "  border: var(--sklearn-color-fitted-level-1) 1pt solid;\n",
       "  color: var(--sklearn-color-fitted-level-1);\n",
       "}\n",
       "\n",
       "/* On hover */\n",
       "#sk-container-id-1 a.estimator_doc_link:hover {\n",
       "  /* unfitted */\n",
       "  background-color: var(--sklearn-color-unfitted-level-3);\n",
       "  color: var(--sklearn-color-background);\n",
       "  text-decoration: none;\n",
       "}\n",
       "\n",
       "#sk-container-id-1 a.estimator_doc_link.fitted:hover {\n",
       "  /* fitted */\n",
       "  background-color: var(--sklearn-color-fitted-level-3);\n",
       "}\n",
       "</style><div id=\"sk-container-id-1\" class=\"sk-top-container\"><div class=\"sk-text-repr-fallback\"><pre>MultinomialNB()</pre><b>In a Jupyter environment, please rerun this cell to show the HTML representation or trust the notebook. <br />On GitHub, the HTML representation is unable to render, please try loading this page with nbviewer.org.</b></div><div class=\"sk-container\" hidden><div class=\"sk-item\"><div class=\"sk-estimator fitted sk-toggleable\"><input class=\"sk-toggleable__control sk-hidden--visually\" id=\"sk-estimator-id-1\" type=\"checkbox\" checked><label for=\"sk-estimator-id-1\" class=\"sk-toggleable__label fitted sk-toggleable__label-arrow fitted\">&nbsp;&nbsp;MultinomialNB<a class=\"sk-estimator-doc-link fitted\" rel=\"noreferrer\" target=\"_blank\" href=\"https://scikit-learn.org/1.5/modules/generated/sklearn.naive_bayes.MultinomialNB.html\">?<span>Documentation for MultinomialNB</span></a><span class=\"sk-estimator-doc-link fitted\">i<span>Fitted</span></span></label><div class=\"sk-toggleable__content fitted\"><pre>MultinomialNB()</pre></div> </div></div></div></div>"
      ],
      "text/plain": [
       "MultinomialNB()"
      ]
     },
     "execution_count": 80,
     "metadata": {},
     "output_type": "execute_result"
    }
   ],
   "source": [
    "from sklearn.naive_bayes import MultinomialNB\n",
    "\n",
    "model=MultinomialNB()\n",
    "model.fit(X_train_cv,y_train)\n"
   ]
  },
  {
   "cell_type": "code",
   "execution_count": 82,
   "id": "3434f55a-2ecf-4446-9ed7-160ee856cbbe",
   "metadata": {},
   "outputs": [],
   "source": [
    "X_val_cv=v.transform(X_val)"
   ]
  },
  {
   "cell_type": "code",
   "execution_count": 84,
   "id": "d3ed0765-f367-46c8-a5b2-4b575cc67262",
   "metadata": {},
   "outputs": [
    {
     "name": "stdout",
     "output_type": "stream",
     "text": [
      "              precision    recall  f1-score   support\n",
      "\n",
      "           0       0.79      0.84      0.81       869\n",
      "           1       0.77      0.71      0.74       654\n",
      "\n",
      "    accuracy                           0.78      1523\n",
      "   macro avg       0.78      0.77      0.78      1523\n",
      "weighted avg       0.78      0.78      0.78      1523\n",
      "\n"
     ]
    }
   ],
   "source": [
    "from sklearn.metrics import classification_report\n",
    "\n",
    "y_pred=model.predict(X_val_cv)\n",
    "\n",
    "print(classification_report(y_val,y_pred))\n"
   ]
  },
  {
   "cell_type": "code",
   "execution_count": 86,
   "id": "a3f1e515-b9b0-4979-9eaf-1e3e6ec2c6d8",
   "metadata": {},
   "outputs": [
    {
     "data": {
      "text/plain": [
       "array([1, 0], dtype=int64)"
      ]
     },
     "execution_count": 86,
     "metadata": {},
     "output_type": "execute_result"
    }
   ],
   "source": [
    "msg=[\n",
    "    'Typhoon Soudelor kills 28 in China and Taiwan',\n",
    "    \"They'd probably still show more life than Arsenal did yesterday, eh? EH?\"]\n",
    "msg_count=v.transform(msg)\n",
    "model.predict(msg_count)"
   ]
  },
  {
   "cell_type": "code",
   "execution_count": 88,
   "id": "5c882c16-c345-4298-acfe-22baba50851a",
   "metadata": {},
   "outputs": [
    {
     "name": "stdout",
     "output_type": "stream",
     "text": [
      "Predictions saved to 'test_predictions.csv'.\n"
     ]
    }
   ],
   "source": [
    "# Step 6: Transform test data using the same CountVectorizer instance\n",
    "X_test_cv = v.transform(X_test)\n",
    "\n",
    "# Step 7: Make predictions on test data\n",
    "test_predictions = model.predict(X_test_cv)\n",
    "\n",
    "# Step 8: Save predictions and original text to a new file\n",
    "test_data_with_predictions = pd.DataFrame({'text': X_test, 'predicted_label': test_predictions})\n",
    "test_data_with_predictions.to_csv('test_predictions.csv', index=False)\n",
    "\n",
    "print(\"Predictions saved to 'test_predictions.csv'.\")"
   ]
  },
  {
   "cell_type": "code",
   "execution_count": 90,
   "id": "13cb2c28-2d11-4099-be6e-4e5393ccad10",
   "metadata": {},
   "outputs": [
    {
     "name": "stdout",
     "output_type": "stream",
     "text": [
      "Predictions saved to 'test_predictions.csv'.\n"
     ]
    }
   ],
   "source": [
    "\n",
    "# Step 6: Load the test dataset\n",
    "test_data = pd.read_csv('twitter_test.csv')  # Replace with your actual file path\n",
    "\n",
    "# Step 7: Extract the text from the test dataset\n",
    "X_test = test_data['text']\n",
    "\n",
    "# Step 8: Transform test data using the same CountVectorizer instance\n",
    "X_test_cv = v.transform(X_test)\n",
    "\n",
    "# Step 9: Make predictions on test data\n",
    "test_predictions = model.predict(X_test_cv)\n",
    "\n",
    "# Step 10: Add predictions to the test dataset\n",
    "test_data['predicted_label'] = test_predictions\n",
    "\n",
    "# Step 11: Save the id, text, and predictions to a new file\n",
    "test_data[['id',  'predicted_label']].to_csv('test_predictions.csv', index=False)\n",
    "\n",
    "print(\"Predictions saved to 'test_predictions.csv'.\")\n"
   ]
  },
  {
   "cell_type": "code",
   "execution_count": 92,
   "id": "ba4ed2e2-db11-455b-a149-6066d8dce19a",
   "metadata": {},
   "outputs": [
    {
     "name": "stdout",
     "output_type": "stream",
     "text": [
      "              precision    recall  f1-score   support\n",
      "\n",
      "           0       0.78      0.89      0.83       869\n",
      "           1       0.82      0.67      0.74       654\n",
      "\n",
      "    accuracy                           0.80      1523\n",
      "   macro avg       0.80      0.78      0.79      1523\n",
      "weighted avg       0.80      0.80      0.79      1523\n",
      "\n"
     ]
    }
   ],
   "source": [
    "from sklearn.feature_extraction.text import TfidfVectorizer\n",
    "\n",
    "from sklearn.naive_bayes import MultinomialNB\n",
    "from sklearn.pipeline import Pipeline\n",
    "from sklearn.feature_extraction.text import CountVectorizer\n",
    "#from sklearn.metrics import ClassificationReport\n",
    "# Define the pipeline\n",
    "NB = Pipeline([\n",
    "    ('vect', TfidfVectorizer()),  \n",
    "    ('clf', MultinomialNB(alpha=0.75))  \n",
    "])\n",
    "\n",
    "\n",
    "# Fit the pipeline on the training data\n",
    "NB.fit(X_train, y_train)\n",
    "\n",
    "y_pred=NB.predict(X_val)\n",
    "\n",
    "print(classification_report(y_val,y_pred))\n"
   ]
  },
  {
   "cell_type": "code",
   "execution_count": null,
   "id": "9ee528dc-2e75-4c82-baa2-b4045ed47429",
   "metadata": {},
   "outputs": [],
   "source": [
    "from sklearn.ensemble import RandomForestClassifier\n",
    "from sklearn.feature_extraction.text import TfidfVectorizer\n",
    "from sklearn.pipeline import Pipeline\n",
    "from sklearn.model_selection import GridSearchCV\n",
    "from sklearn.metrics import classification_report\n",
    "\n",
    "# Define the pipeline with TF-IDF vectorization and RandomForestClassifier\n",
    "RF = Pipeline([\n",
    "    ('vect', TfidfVectorizer()),\n",
    "    ('clf', RandomForestClassifier())\n",
    "])\n",
    "\n",
    "# Define parameters for grid search\n",
    "param_grid = {\n",
    "    'vect__ngram_range': [(1, 1), (1, 2)],  # unigrams or bigrams\n",
    "    'clf__n_estimators': [100, 200, 300],\n",
    "    'clf__max_depth': [None, 10, 20, 30], \n",
    "    'clf__min_samples_split': [2, 5, 10],\n",
    "    'clf__min_samples_leaf': [1, 2, 4],\n",
    "    'clf__max_features': ['auto', 'sqrt', 'log2']\n",
    "}\n",
    "\n",
    "# Perform grid search to find the best parameters\n",
    "grid_search = GridSearchCV(RF, param_grid, cv=5, n_jobs=-1)\n",
    "grid_search.fit(X_train, y_train)\n",
    "\n",
    "# Print the best parameters found\n",
    "print(\"Best parameters found: \", grid_search.best_params_)\n",
    "\n",
    "# Evaluate on validation set\n",
    "y_pred = grid_search.predict(X_val)\n",
    "print(classification_report(y_val, y_pred))\n"
   ]
  },
  {
   "cell_type": "code",
   "execution_count": 100,
   "id": "c1e77404-bed1-40c7-adc5-197a474f6030",
   "metadata": {},
   "outputs": [],
   "source": []
  },
  {
   "cell_type": "code",
   "execution_count": null,
   "id": "7aa8cc91-7552-412e-a731-d61c37b7dc48",
   "metadata": {},
   "outputs": [],
   "source": []
  }
 ],
 "metadata": {
  "kernelspec": {
   "display_name": "Python 3 (ipykernel)",
   "language": "python",
   "name": "python3"
  },
  "language_info": {
   "codemirror_mode": {
    "name": "ipython",
    "version": 3
   },
   "file_extension": ".py",
   "mimetype": "text/x-python",
   "name": "python",
   "nbconvert_exporter": "python",
   "pygments_lexer": "ipython3",
   "version": "3.11.9"
  }
 },
 "nbformat": 4,
 "nbformat_minor": 5
}
